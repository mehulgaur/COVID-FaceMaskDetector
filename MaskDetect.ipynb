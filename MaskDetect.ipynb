{
 "cells": [
  {
   "cell_type": "code",
   "execution_count": 1,
   "metadata": {},
   "outputs": [],
   "source": [
    "#pip install tensorflow-gpu"
   ]
  },
  {
   "cell_type": "code",
   "execution_count": 2,
   "metadata": {},
   "outputs": [],
   "source": [
    "#import sys\n",
    "#print(sys.version)"
   ]
  },
  {
   "cell_type": "code",
   "execution_count": 3,
   "metadata": {},
   "outputs": [],
   "source": [
    "#pip install pandas\n"
   ]
  },
  {
   "cell_type": "code",
   "execution_count": 4,
   "metadata": {},
   "outputs": [],
   "source": [
    "#!pip install matplotlib"
   ]
  },
  {
   "cell_type": "code",
   "execution_count": 5,
   "metadata": {},
   "outputs": [],
   "source": [
    "#!pip install sklearn"
   ]
  },
  {
   "cell_type": "code",
   "execution_count": 6,
   "metadata": {},
   "outputs": [],
   "source": [
    "#!pip install imutils"
   ]
  },
  {
   "cell_type": "code",
   "execution_count": 7,
   "metadata": {},
   "outputs": [],
   "source": [
    "import numpy as np\n",
    "import pandas as pd \n",
    "import matplotlib.pyplot as plt\n",
    "\n",
    "import tensorflow as tf\n",
    "from tensorflow.keras.layers import AveragePooling2D\n",
    "from tensorflow.keras.layers import Dropout\n",
    "from tensorflow.keras.layers import Flatten\n",
    "from tensorflow.keras.layers import Dense\n",
    "from tensorflow.keras.layers import Input\n",
    "from tensorflow.keras.models import Model\n",
    "from tensorflow.keras.optimizers import Adam\n",
    "\n",
    "from tensorflow.keras.utils import to_categorical\n",
    "\n",
    "from tensorflow.keras.preprocessing.image import ImageDataGenerator\n",
    "from tensorflow.keras.preprocessing.image import img_to_array\n",
    "from tensorflow.keras.preprocessing.image import load_img\n",
    "\n",
    "from tensorflow.keras.applications import NASNetMobile\n",
    "from tensorflow.keras.applications.nasnet import preprocess_input\n",
    "from tensorflow.keras.applications import MobileNetV2\n",
    "from tensorflow.keras.applications.mobilenet_v2 import preprocess_input\n",
    "\n",
    "from sklearn.preprocessing import LabelBinarizer\n",
    "from sklearn.model_selection import train_test_split\n",
    "from sklearn.metrics import classification_report\n",
    "\n",
    "from imutils import paths\n",
    "import os"
   ]
  },
  {
   "cell_type": "code",
   "execution_count": 8,
   "metadata": {},
   "outputs": [],
   "source": [
    "#if not tf.test.gpu_device_name():\n",
    "#    print(\"No Gpu\")   "
   ]
  },
  {
   "cell_type": "code",
   "execution_count": 9,
   "metadata": {},
   "outputs": [],
   "source": [
    "#from tensorflow.python.client import device_lib\n",
    "#print(device_lib.list_local_devices())"
   ]
  },
  {
   "cell_type": "code",
   "execution_count": 10,
   "metadata": {},
   "outputs": [],
   "source": [
    "LR = 1e-4\n",
    "BS = 32\n",
    "EP = 10"
   ]
  },
  {
   "cell_type": "code",
   "execution_count": 11,
   "metadata": {},
   "outputs": [],
   "source": [
    "labels = []\n",
    "data = [] \n",
    "labels3 = []\n",
    "data3 = [] \n"
   ]
  },
  {
   "cell_type": "code",
   "execution_count": 12,
   "metadata": {},
   "outputs": [],
   "source": [
    "DIR = r\"dataset\"\n",
    "CAT = ['mask_off', 'mask_on']"
   ]
  },
  {
   "cell_type": "code",
   "execution_count": 13,
   "metadata": {},
   "outputs": [
    {
     "name": "stdout",
     "output_type": "stream",
     "text": [
      "Loading Images\n"
     ]
    },
    {
     "name": "stderr",
     "output_type": "stream",
     "text": [
      "C:\\Users\\Mehul\\anaconda3\\lib\\site-packages\\PIL\\Image.py:975: UserWarning: Palette images with Transparency expressed in bytes should be converted to RGBA images\n",
      "  warnings.warn(\n"
     ]
    },
    {
     "name": "stdout",
     "output_type": "stream",
     "text": [
      "Images loaded\n"
     ]
    }
   ],
   "source": [
    "print(\"Loading Images\")\n",
    "for cat in CAT:\n",
    "    path = os.path.join(DIR,cat)\n",
    "    for img in os.listdir(path):\n",
    "        img_path = os.path.join(path, img)\n",
    "        image = load_img(img_path, target_size=(224, 224))\n",
    "        \n",
    "        image = img_to_array(image)\n",
    "        image = preprocess_input(image)\n",
    "\n",
    "        data.append(image)\n",
    "        labels.append(cat)\n",
    "\n",
    "print(\"Images loaded\")"
   ]
  },
  {
   "cell_type": "code",
   "execution_count": 14,
   "metadata": {},
   "outputs": [
    {
     "name": "stdout",
     "output_type": "stream",
     "text": [
      "Loading Images\n",
      "Images loaded\n"
     ]
    }
   ],
   "source": [
    "#For inceptionV3\n",
    "print(\"Loading Images\")\n",
    "for cat in CAT:\n",
    "    path = os.path.join(DIR,cat)\n",
    "    for img in os.listdir(path):\n",
    "        img_path = os.path.join(path, img)\n",
    "        image = load_img(img_path, target_size=(299,299))\n",
    "        \n",
    "        image = img_to_array(image)\n",
    "        image = preprocess_input(image)\n",
    "\n",
    "        data3.append(image)\n",
    "        labels3.append(cat)\n",
    "print(\"Images loaded\")"
   ]
  },
  {
   "cell_type": "code",
   "execution_count": 15,
   "metadata": {},
   "outputs": [],
   "source": [
    "#One hot encoding labels\n",
    "lb = LabelBinarizer()\n",
    "\n",
    "labels = lb.fit_transform(labels)\n",
    "labels = to_categorical(labels)\n",
    "\n",
    "data = np.array(data, dtype=\"float32\")\n",
    "labels = np.array(labels)"
   ]
  },
  {
   "cell_type": "code",
   "execution_count": null,
   "metadata": {},
   "outputs": [],
   "source": [
    "#One hot encoding labels\n",
    "lb = LabelBinarizer()\n",
    "\n",
    "labels3 = lb.fit_transform(labels3)\n",
    "labels3 = to_categorical(labels3)\n",
    "\n",
    "data3 = np.array(data3, dtype=\"float32\")\n",
    "labels3 = np.array(labels3)"
   ]
  },
  {
   "cell_type": "code",
   "execution_count": null,
   "metadata": {},
   "outputs": [],
   "source": [
    "(trainX1, testX1, trainY1, testY1) = train_test_split(data,\n",
    "                                                  labels,\n",
    "                                                  test_size=0.20,\n",
    "                                                  stratify=labels,\n",
    "                                                  random_state=42)"
   ]
  },
  {
   "cell_type": "code",
   "execution_count": null,
   "metadata": {},
   "outputs": [],
   "source": [
    "(trainX2, testX2, trainY2, testY2) = train_test_split(data,\n",
    "                                                  labels,\n",
    "                                                  test_size=0.20,\n",
    "                                                  stratify=labels,\n",
    "                                                  random_state=42)"
   ]
  },
  {
   "cell_type": "code",
   "execution_count": null,
   "metadata": {},
   "outputs": [],
   "source": [
    "(trainX3, testX3, trainY3, testY3) = train_test_split(data3,\n",
    "                                                  labels3,\n",
    "                                                  test_size=0.20,\n",
    "                                                  stratify=labels3,\n",
    "                                                  random_state=42)"
   ]
  },
  {
   "cell_type": "code",
   "execution_count": null,
   "metadata": {},
   "outputs": [],
   "source": [
    "aug = ImageDataGenerator(\n",
    "    rotation_range=20,\n",
    "    zoom_range=0.15,\n",
    "    width_shift_range=0.2,\n",
    "    height_shift_range=0.2,\n",
    "    shear_range=0.15,\n",
    "    horizontal_flip=True,\n",
    "    fill_mode=\"nearest\")"
   ]
  },
  {
   "cell_type": "code",
   "execution_count": null,
   "metadata": {},
   "outputs": [],
   "source": [
    "import tensorflow as tf\n",
    "from tensorflow import keras\n",
    "callback = tf.keras.callbacks.EarlyStopping(\n",
    "    monitor='val_loss', min_delta=0, patience=0, verbose=1, mode='auto',\n",
    "    baseline=None, restore_best_weights=False\n",
    ")"
   ]
  },
  {
   "cell_type": "markdown",
   "metadata": {},
   "source": [
    "# NASNetMobile"
   ]
  },
  {
   "cell_type": "code",
   "execution_count": null,
   "metadata": {},
   "outputs": [],
   "source": [
    "#load into NASNetMobile\n",
    "baseModel1 = NASNetMobile(weights=\"imagenet\", \n",
    "                        include_top=False,\n",
    "                        input_tensor=Input(shape=(224, 224, 3)))"
   ]
  },
  {
   "cell_type": "code",
   "execution_count": null,
   "metadata": {},
   "outputs": [],
   "source": [
    "#NASNetMobile Model\n",
    "\n",
    "myModel1 = baseModel1.output\n",
    "\n",
    "myModel1 = AveragePooling2D(pool_size=(7, 7))(myModel1)\n",
    "myModel1 = Flatten(name=\"flatten\")(myModel1)\n",
    "myModel1 = Dense(128, activation=\"relu\")(myModel1)\n",
    "\n",
    "myModel1 = Dense(128, activation=\"relu\")(myModel1)\n",
    "\n",
    "myModel1 = Dropout(0.5)(myModel1)\n",
    "\n",
    "\n",
    "myModel1 = Dense(2, activation=\"softmax\")(myModel1)\n",
    "\n",
    "\n",
    "NASNetmodel = Model(inputs=baseModel1.input, outputs=myModel1)\n",
    "\n",
    "for layer in baseModel1.layers:\n",
    "    layer.trainable = False"
   ]
  },
  {
   "cell_type": "code",
   "execution_count": 26,
   "metadata": {},
   "outputs": [],
   "source": [
    "opt = Adam(lr=LR, decay=LR/EP)\n",
    "NASNetmodel.compile(loss=\"binary_crossentropy\", \n",
    "              optimizer=opt,\n",
    "              metrics=[\"accuracy\"])"
   ]
  },
  {
   "cell_type": "code",
   "execution_count": 27,
   "metadata": {
    "scrolled": true
   },
   "outputs": [
    {
     "name": "stdout",
     "output_type": "stream",
     "text": [
      "Epoch 1/10\n",
      "95/95 [==============================] - 415s 4s/step - loss: 0.5515 - accuracy: 0.7445 - val_loss: 0.1694 - val_accuracy: 0.9609\n",
      "Epoch 2/10\n",
      "95/95 [==============================] - 107s 1s/step - loss: 0.1774 - accuracy: 0.9534 - val_loss: 0.0852 - val_accuracy: 0.9687\n",
      "Epoch 3/10\n",
      "95/95 [==============================] - 106s 1s/step - loss: 0.0987 - accuracy: 0.9698 - val_loss: 0.0618 - val_accuracy: 0.9765\n",
      "Epoch 4/10\n",
      "95/95 [==============================] - 106s 1s/step - loss: 0.0688 - accuracy: 0.9822 - val_loss: 0.0516 - val_accuracy: 0.9804\n",
      "Epoch 5/10\n",
      "95/95 [==============================] - 106s 1s/step - loss: 0.0535 - accuracy: 0.9862 - val_loss: 0.0426 - val_accuracy: 0.9844\n",
      "Epoch 6/10\n",
      "95/95 [==============================] - 105s 1s/step - loss: 0.0597 - accuracy: 0.9790 - val_loss: 0.0380 - val_accuracy: 0.9870\n",
      "Epoch 7/10\n",
      "95/95 [==============================] - 106s 1s/step - loss: 0.0503 - accuracy: 0.9831 - val_loss: 0.0333 - val_accuracy: 0.9896\n",
      "Epoch 8/10\n",
      "95/95 [==============================] - 106s 1s/step - loss: 0.0358 - accuracy: 0.9893 - val_loss: 0.0332 - val_accuracy: 0.9857\n",
      "Epoch 9/10\n",
      "95/95 [==============================] - 105s 1s/step - loss: 0.0473 - accuracy: 0.9856 - val_loss: 0.0290 - val_accuracy: 0.9948\n",
      "Epoch 10/10\n",
      "95/95 [==============================] - 105s 1s/step - loss: 0.0375 - accuracy: 0.9884 - val_loss: 0.0297 - val_accuracy: 0.9922\n"
     ]
    }
   ],
   "source": [
    "hist1 = NASNetmodel.fit(\n",
    "    aug.flow(trainX1, trainY1, batch_size=BS),\n",
    "    steps_per_epoch=len(trainX1) // BS,\n",
    "    validation_data=(testX1, testY1),\n",
    "    validation_steps=len(testX1) // BS,\n",
    "    epochs=EP,)"
   ]
  },
  {
   "cell_type": "markdown",
   "metadata": {},
   "source": [
    "# InceptionV3"
   ]
  },
  {
   "cell_type": "code",
   "execution_count": 28,
   "metadata": {},
   "outputs": [],
   "source": [
    "#load into InceptionV3\n",
    "\n",
    "from tensorflow.keras.applications import InceptionV3\n",
    "from tensorflow.keras.applications.inception_v3 import preprocess_input\n",
    "baseModel3 = InceptionV3(weights=\"imagenet\", \n",
    "                        include_top=False,\n",
    "                        input_tensor=Input(shape=(299,299, 3)))"
   ]
  },
  {
   "cell_type": "code",
   "execution_count": 29,
   "metadata": {},
   "outputs": [],
   "source": [
    "#InceptionV3 Model\n",
    "\n",
    "myModel3 = baseModel3.output\n",
    "\n",
    "myModel3 = AveragePooling2D(pool_size=(7, 7))(myModel3)\n",
    "myModel3 = Flatten(name=\"flatten\")(myModel3)\n",
    "myModel3 = Dense(128, activation=\"relu\")(myModel3)\n",
    "\n",
    "myModel3 = Dense(128, activation=\"relu\")(myModel3)\n",
    "\n",
    "myModel3 = Dropout(0.5)(myModel3)\n",
    "\n",
    "\n",
    "myModel3 = Dense(2, activation=\"softmax\")(myModel3)\n",
    "\n",
    "\n",
    "Inceptionmodel = Model(inputs=baseModel3.input, outputs=myModel3)\n",
    "\n",
    "for layer in baseModel3.layers:\n",
    "    layer.trainable = False"
   ]
  },
  {
   "cell_type": "code",
   "execution_count": 30,
   "metadata": {},
   "outputs": [],
   "source": [
    "opt = Adam(lr=LR, decay=LR/EP)\n",
    "Inceptionmodel.compile(loss=\"binary_crossentropy\", \n",
    "              optimizer=opt,\n",
    "              metrics=[\"accuracy\"])"
   ]
  },
  {
   "cell_type": "code",
   "execution_count": 31,
   "metadata": {},
   "outputs": [
    {
     "name": "stdout",
     "output_type": "stream",
     "text": [
      "Epoch 1/10\n",
      "95/95 [==============================] - 411s 4s/step - loss: 0.4630 - accuracy: 0.8117 - val_loss: 0.0795 - val_accuracy: 0.9831\n",
      "Epoch 2/10\n",
      "95/95 [==============================] - 231s 2s/step - loss: 0.0929 - accuracy: 0.9810 - val_loss: 0.0373 - val_accuracy: 0.9896\n",
      "Epoch 3/10\n",
      "95/95 [==============================] - 165s 2s/step - loss: 0.0656 - accuracy: 0.9845 - val_loss: 0.0288 - val_accuracy: 0.9935\n",
      "Epoch 4/10\n",
      "95/95 [==============================] - 176s 2s/step - loss: 0.0402 - accuracy: 0.9896 - val_loss: 0.0271 - val_accuracy: 0.9909\n",
      "Epoch 5/10\n",
      "95/95 [==============================] - 174s 2s/step - loss: 0.0412 - accuracy: 0.9891 - val_loss: 0.0224 - val_accuracy: 0.9935\n",
      "Epoch 6/10\n",
      "95/95 [==============================] - 169s 2s/step - loss: 0.0202 - accuracy: 0.9971 - val_loss: 0.0211 - val_accuracy: 0.9948\n",
      "Epoch 7/10\n",
      "95/95 [==============================] - 170s 2s/step - loss: 0.0297 - accuracy: 0.9900 - val_loss: 0.0207 - val_accuracy: 0.9948\n",
      "Epoch 8/10\n",
      "95/95 [==============================] - 170s 2s/step - loss: 0.0268 - accuracy: 0.9919 - val_loss: 0.0203 - val_accuracy: 0.9948\n",
      "Epoch 9/10\n",
      "95/95 [==============================] - 170s 2s/step - loss: 0.0266 - accuracy: 0.9920 - val_loss: 0.0197 - val_accuracy: 0.9948\n",
      "Epoch 10/10\n",
      "95/95 [==============================] - 171s 2s/step - loss: 0.0237 - accuracy: 0.9943 - val_loss: 0.0220 - val_accuracy: 0.9935\n"
     ]
    }
   ],
   "source": [
    "hist3 = Inceptionmodel.fit(\n",
    "    aug.flow(trainX3, trainY3, batch_size=BS),\n",
    "    steps_per_epoch=len(trainX3) // BS,\n",
    "    validation_data=(testX3, testY3),\n",
    "    validation_steps=len(testX3) // BS,\n",
    "    epochs=EP,)"
   ]
  },
  {
   "cell_type": "markdown",
   "metadata": {},
   "source": [
    "# MobileNetV2"
   ]
  },
  {
   "cell_type": "code",
   "execution_count": 32,
   "metadata": {},
   "outputs": [
    {
     "name": "stdout",
     "output_type": "stream",
     "text": [
      "WARNING:tensorflow:`input_shape` is undefined or non-square, or `rows` is not in [96, 128, 160, 192, 224]. Weights for input shape (224, 224) will be loaded as the default.\n"
     ]
    }
   ],
   "source": [
    "#load into MobileNetV2\n",
    "\n",
    "baseModel2 = MobileNetV2(weights=\"imagenet\", \n",
    "                        include_top=False,\n",
    "                        input_tensor=Input(shape=(224, 224, 3)))"
   ]
  },
  {
   "cell_type": "code",
   "execution_count": 33,
   "metadata": {},
   "outputs": [],
   "source": [
    "#MobileNetV2 Model\n",
    "\n",
    "myModel2 = baseModel2.output\n",
    "\n",
    "myModel2 = AveragePooling2D(pool_size=(7, 7))(myModel2)\n",
    "myModel2 = Flatten(name=\"flatten\")(myModel2)\n",
    "myModel2 = Dense(128, activation=\"relu\")(myModel2)\n",
    "\n",
    "myModel2 = Dense(128, activation=\"relu\")(myModel2)\n",
    "\n",
    "myModel2 = Dropout(0.5)(myModel2)\n",
    "\n",
    "\n",
    "myModel2 = Dense(2, activation=\"softmax\")(myModel2)\n",
    "\n",
    "\n",
    "MobileNetmodel = Model(inputs=baseModel2.input, outputs=myModel2)\n",
    "\n",
    "for layer in baseModel2.layers:\n",
    "    layer.trainable = False"
   ]
  },
  {
   "cell_type": "code",
   "execution_count": 34,
   "metadata": {},
   "outputs": [],
   "source": [
    "opt = Adam(lr=LR, decay=LR/EP)\n",
    "MobileNetmodel.compile(loss=\"binary_crossentropy\", \n",
    "              optimizer=opt,\n",
    "              metrics=[\"accuracy\"])"
   ]
  },
  {
   "cell_type": "code",
   "execution_count": 35,
   "metadata": {},
   "outputs": [
    {
     "name": "stdout",
     "output_type": "stream",
     "text": [
      "Epoch 1/10\n",
      "95/95 [==============================] - 333s 3s/step - loss: 0.5580 - accuracy: 0.7671 - val_loss: 0.1568 - val_accuracy: 0.9765\n",
      "Epoch 2/10\n",
      "95/95 [==============================] - 82s 860ms/step - loss: 0.1577 - accuracy: 0.9675 - val_loss: 0.0619 - val_accuracy: 0.9909\n",
      "Epoch 3/10\n",
      "95/95 [==============================] - 75s 785ms/step - loss: 0.0789 - accuracy: 0.9815 - val_loss: 0.0418 - val_accuracy: 0.9909\n",
      "Epoch 4/10\n",
      "95/95 [==============================] - 85s 894ms/step - loss: 0.0652 - accuracy: 0.9780 - val_loss: 0.0355 - val_accuracy: 0.9909\n",
      "Epoch 5/10\n",
      "95/95 [==============================] - 88s 921ms/step - loss: 0.0434 - accuracy: 0.9901 - val_loss: 0.0302 - val_accuracy: 0.9922\n",
      "Epoch 6/10\n",
      "95/95 [==============================] - 87s 909ms/step - loss: 0.0438 - accuracy: 0.9879 - val_loss: 0.0277 - val_accuracy: 0.9922\n",
      "Epoch 7/10\n",
      "95/95 [==============================] - 80s 837ms/step - loss: 0.0422 - accuracy: 0.9867 - val_loss: 0.0316 - val_accuracy: 0.9896\n",
      "Epoch 8/10\n",
      "95/95 [==============================] - 75s 783ms/step - loss: 0.0328 - accuracy: 0.9907 - val_loss: 0.0296 - val_accuracy: 0.9896\n",
      "Epoch 9/10\n",
      "95/95 [==============================] - 74s 778ms/step - loss: 0.0449 - accuracy: 0.9835 - val_loss: 0.0219 - val_accuracy: 0.9935\n",
      "Epoch 10/10\n",
      "95/95 [==============================] - 76s 796ms/step - loss: 0.0414 - accuracy: 0.9893 - val_loss: 0.0213 - val_accuracy: 0.9935\n"
     ]
    }
   ],
   "source": [
    "hist2 = MobileNetmodel.fit(\n",
    "    aug.flow(trainX2, trainY2, batch_size=BS),\n",
    "    steps_per_epoch=len(trainX2) // BS,\n",
    "    validation_data=(testX2, testY2),\n",
    "    validation_steps=len(testX2) // BS,\n",
    "    epochs=EP,)"
   ]
  },
  {
   "cell_type": "code",
   "execution_count": 36,
   "metadata": {},
   "outputs": [],
   "source": [
    "#model.metrics_names"
   ]
  },
  {
   "cell_type": "markdown",
   "metadata": {},
   "source": [
    "# NASNet Evaluation\n"
   ]
  },
  {
   "cell_type": "code",
   "execution_count": 38,
   "metadata": {},
   "outputs": [
    {
     "name": "stdout",
     "output_type": "stream",
     "text": [
      "              precision    recall  f1-score   support\n",
      "\n",
      "    mask_off       0.99      0.99      0.99       384\n",
      "     mask_on       0.99      0.99      0.99       383\n",
      "\n",
      "    accuracy                           0.99       767\n",
      "   macro avg       0.99      0.99      0.99       767\n",
      "weighted avg       0.99      0.99      0.99       767\n",
      "\n"
     ]
    },
    {
     "data": {
      "image/png": "[encoded data removed]",
      "text/plain": [
       "<Figure size 432x288 with 1 Axes>"
      ]
     },
     "metadata": {},
     "output_type": "display_data"
    }
   ],
   "source": [
    "#Eval\n",
    "predIdxs = NASNetmodel.predict(testX1, batch_size=BS)\n",
    "\n",
    "# for each image in the testing set we need to find the index of the\n",
    "# label with corresponding largest predicted probability\n",
    "predIdxs = np.argmax(predIdxs, axis=1)\n",
    "\n",
    "# show a nicely formatted classification report\n",
    "print(classification_report(testY1.argmax(axis=1), predIdxs,target_names=lb.classes_))\n",
    "\n",
    "# serialize the model to disk\n",
    "NASNetmodel.save(\"mask_detector_NASNet.model\", save_format=\"h5\")\n",
    "\n",
    "# plot the training loss and accuracy\n",
    "N = EP\n",
    "plt.style.use(\"ggplot\")\n",
    "plt.figure()\n",
    "plt.plot(np.arange(0, N), hist1.history[\"loss\"], label=\"train_loss\")\n",
    "plt.plot(np.arange(0, N), hist1.history[\"val_loss\"], label=\"val_loss\")\n",
    "plt.plot(np.arange(0, N), hist1.history[\"accuracy\"], label=\"train_acc\")\n",
    "plt.plot(np.arange(0, N), hist1.history[\"val_accuracy\"], label=\"val_acc\")\n",
    "\n",
    "\n",
    "plt.title(\"Training Loss and Accuracy\")\n",
    "plt.xlabel(\"Epoch #\")\n",
    "plt.ylabel(\"Loss/Accuracy\")\n",
    "plt.legend(loc=\"lower left\")\n",
    "plt.savefig(\"NASNetMobile-plot.png\")"
   ]
  },
  {
   "cell_type": "markdown",
   "metadata": {},
   "source": [
    "# Inception Evaluation"
   ]
  },
  {
   "cell_type": "code",
   "execution_count": 39,
   "metadata": {},
   "outputs": [
    {
     "name": "stdout",
     "output_type": "stream",
     "text": [
      "              precision    recall  f1-score   support\n",
      "\n",
      "    mask_off       0.99      0.99      0.99       384\n",
      "     mask_on       0.99      0.99      0.99       383\n",
      "\n",
      "    accuracy                           0.99       767\n",
      "   macro avg       0.99      0.99      0.99       767\n",
      "weighted avg       0.99      0.99      0.99       767\n",
      "\n"
     ]
    },
    {
     "data": {
      "image/png": "[encoded data removed]",
      "text/plain": [
       "<Figure size 432x288 with 1 Axes>"
      ]
     },
     "metadata": {},
     "output_type": "display_data"
    }
   ],
   "source": [
    "#Eval\n",
    "predIdxs = Inceptionmodel.predict(testX3, batch_size=BS)\n",
    "\n",
    "# for each image in the testing set we need to find the index of the\n",
    "# label with corresponding largest predicted probability\n",
    "predIdxs = np.argmax(predIdxs, axis=1)\n",
    "\n",
    "# show a nicely formatted classification report\n",
    "print(classification_report(testY3.argmax(axis=1), predIdxs,target_names=lb.classes_))\n",
    "\n",
    "# serialize the model to disk\n",
    "Inceptionmodel.save(\"mask_detector_InceptionV3.model\", save_format=\"h5\")\n",
    "\n",
    "# plot the training loss and accuracy\n",
    "N = EP\n",
    "plt.style.use(\"ggplot\")\n",
    "plt.figure()\n",
    "plt.plot(np.arange(0, N), hist3.history[\"loss\"], label=\"train_loss\")\n",
    "plt.plot(np.arange(0, N), hist3.history[\"val_loss\"], label=\"val_loss\")\n",
    "plt.plot(np.arange(0, N), hist3.history[\"accuracy\"], label=\"train_acc\")\n",
    "plt.plot(np.arange(0, N), hist3.history[\"val_accuracy\"], label=\"val_acc\")\n",
    "\n",
    "\n",
    "plt.title(\"Training Loss and Accuracy\")\n",
    "plt.xlabel(\"Epoch #\")\n",
    "plt.ylabel(\"Loss/Accuracy\")\n",
    "plt.legend(loc=\"lower left\")\n",
    "plt.savefig(\"Inception-plot.png\")"
   ]
  },
  {
   "cell_type": "markdown",
   "metadata": {},
   "source": [
    "# MobileNet Evaluation\n"
   ]
  },
  {
   "cell_type": "code",
   "execution_count": 40,
   "metadata": {},
   "outputs": [
    {
     "name": "stdout",
     "output_type": "stream",
     "text": [
      "              precision    recall  f1-score   support\n",
      "\n",
      "    mask_off       1.00      0.99      0.99       384\n",
      "     mask_on       0.99      1.00      0.99       383\n",
      "\n",
      "    accuracy                           0.99       767\n",
      "   macro avg       0.99      0.99      0.99       767\n",
      "weighted avg       0.99      0.99      0.99       767\n",
      "\n"
     ]
    },
    {
     "data": {
      "image/png": "[encoded data removed]",
      "text/plain": [
       "<Figure size 432x288 with 1 Axes>"
      ]
     },
     "metadata": {},
     "output_type": "display_data"
    }
   ],
   "source": [
    "#Eval\n",
    "predIdxs = MobileNetmodel.predict(testX2, batch_size=BS)\n",
    "\n",
    "# for each image in the testing set we need to find the index of the\n",
    "# label with corresponding largest predicted probability\n",
    "predIdxs = np.argmax(predIdxs, axis=1)\n",
    "\n",
    "# show a nicely formatted classification report\n",
    "print(classification_report(testY2.argmax(axis=1), predIdxs,target_names=lb.classes_))\n",
    "\n",
    "# serialize the model to disk\n",
    "MobileNetmodel.save(\"mask_detector_MobileNetV2.model\", save_format=\"h5\")\n",
    "\n",
    "# plot the training loss and accuracy\n",
    "N = EP\n",
    "plt.style.use(\"ggplot\")\n",
    "plt.figure()\n",
    "plt.plot(np.arange(0, N), hist2.history[\"loss\"], label=\"train_loss\")\n",
    "plt.plot(np.arange(0, N), hist2.history[\"val_loss\"], label=\"val_loss\")\n",
    "plt.plot(np.arange(0, N), hist2.history[\"accuracy\"], label=\"train_acc\")\n",
    "plt.plot(np.arange(0, N), hist2.history[\"val_accuracy\"], label=\"val_acc\")\n",
    "\n",
    "\n",
    "plt.title(\"Training Loss and Accuracy\")\n",
    "plt.xlabel(\"Epoch #\")\n",
    "plt.ylabel(\"Loss/Accuracy\")\n",
    "plt.legend(loc=\"lower left\")\n",
    "plt.savefig(\"MobileNetV2-plot.png\")"
   ]
  },
  {
   "cell_type": "code",
   "execution_count": null,
   "metadata": {},
   "outputs": [],
   "source": []
  },
  {
   "cell_type": "code",
   "execution_count": null,
   "metadata": {},
   "outputs": [
    {
     "name": "stdout",
     "output_type": "stream",
     "text": [
      "(1, 1, 200, 7)\n",
      "Mask  0.999998\n",
      "(1, 1, 200, 7)\n",
      "Mask  0.99956626\n",
      "(1, 1, 200, 7)\n",
      "Mask  0.9999925\n",
      "(1, 1, 200, 7)\n",
      "Mask  0.99999785\n",
      "(1, 1, 200, 7)\n",
      "Mask  0.9999999\n",
      "(1, 1, 200, 7)\n",
      "Mask  0.99999976\n",
      "(1, 1, 200, 7)\n",
      "Mask  0.99999976\n",
      "(1, 1, 200, 7)\n",
      "Mask  0.99999976\n",
      "(1, 1, 200, 7)\n",
      "Mask  1.0\n",
      "(1, 1, 200, 7)\n",
      "Mask  1.0\n",
      "(1, 1, 200, 7)\n",
      "Mask  1.0\n",
      "(1, 1, 200, 7)\n",
      "Mask  1.0\n",
      "(1, 1, 200, 7)\n",
      "Mask  1.0\n",
      "(1, 1, 200, 7)\n",
      "Mask  1.0\n",
      "(1, 1, 200, 7)\n",
      "Mask  1.0\n",
      "(1, 1, 200, 7)\n",
      "Mask  1.0\n",
      "(1, 1, 200, 7)\n",
      "Mask  1.0\n",
      "(1, 1, 200, 7)\n",
      "Mask  0.9999999\n",
      "(1, 1, 200, 7)\n",
      "Mask  0.9999999\n",
      "(1, 1, 200, 7)\n",
      "Mask  1.0\n",
      "(1, 1, 200, 7)\n",
      "Mask  1.0\n",
      "(1, 1, 200, 7)\n",
      "Mask  1.0\n",
      "(1, 1, 200, 7)\n",
      "Mask  0.9999999\n",
      "(1, 1, 200, 7)\n",
      "Mask  1.0\n",
      "(1, 1, 200, 7)\n",
      "Mask  1.0\n",
      "(1, 1, 200, 7)\n",
      "Mask  1.0\n",
      "(1, 1, 200, 7)\n",
      "Mask  1.0\n",
      "(1, 1, 200, 7)\n",
      "Mask  1.0\n",
      "(1, 1, 200, 7)\n",
      "Mask  1.0\n",
      "(1, 1, 200, 7)\n",
      "Mask  1.0\n",
      "(1, 1, 200, 7)\n",
      "Mask  1.0\n",
      "(1, 1, 200, 7)\n",
      "Mask  1.0\n",
      "(1, 1, 200, 7)\n",
      "Mask  1.0\n",
      "(1, 1, 200, 7)\n",
      "Mask  1.0\n",
      "(1, 1, 200, 7)\n",
      "Mask  0.9999999\n",
      "(1, 1, 200, 7)\n",
      "Mask  1.0\n",
      "(1, 1, 200, 7)\n",
      "Mask  0.99999905\n",
      "(1, 1, 200, 7)\n",
      "Mask  0.9999999\n",
      "(1, 1, 200, 7)\n",
      "Mask  1.0\n",
      "(1, 1, 200, 7)\n",
      "Mask  0.9999999\n",
      "(1, 1, 200, 7)\n",
      "Mask  1.0\n",
      "(1, 1, 200, 7)\n",
      "Mask  0.99999917\n",
      "(1, 1, 200, 7)\n",
      "Mask  0.99999976\n",
      "(1, 1, 200, 7)\n",
      "Mask  1.0\n",
      "(1, 1, 200, 7)\n",
      "Mask  0.99824345\n",
      "(1, 1, 200, 7)\n",
      "Mask  0.99958044\n",
      "(1, 1, 200, 7)\n",
      "Mask  0.9999765\n",
      "(1, 1, 200, 7)\n",
      "Mask  1.0\n",
      "(1, 1, 200, 7)\n",
      "Mask  0.99999976\n",
      "(1, 1, 200, 7)\n",
      "Mask  0.99999976\n",
      "(1, 1, 200, 7)\n",
      "Mask  1.0\n",
      "(1, 1, 200, 7)\n",
      "Mask  0.023404926\n",
      "(1, 1, 200, 7)\n",
      "Mask  0.00022021314\n",
      "(1, 1, 200, 7)\n",
      "Mask  0.12744336\n",
      "(1, 1, 200, 7)\n",
      "Mask  0.00073687045\n",
      "(1, 1, 200, 7)\n",
      "Mask  0.6508046\n",
      "(1, 1, 200, 7)\n",
      "Mask  0.015100985\n",
      "(1, 1, 200, 7)\n",
      "Mask  0.001059695\n",
      "(1, 1, 200, 7)\n",
      "Mask  0.0038663964\n",
      "(1, 1, 200, 7)\n",
      "(1, 1, 200, 7)\n",
      "(1, 1, 200, 7)\n",
      "(1, 1, 200, 7)\n",
      "Mask  8.947134e-05\n",
      "(1, 1, 200, 7)\n",
      "Mask  0.000118237505\n",
      "(1, 1, 200, 7)\n",
      "Mask  0.00015144428\n",
      "(1, 1, 200, 7)\n",
      "Mask  5.414238e-05\n",
      "(1, 1, 200, 7)\n",
      "Mask  0.00020030852\n",
      "(1, 1, 200, 7)\n",
      "Mask  0.00013616405\n",
      "(1, 1, 200, 7)\n",
      "Mask  5.2640575e-05\n",
      "(1, 1, 200, 7)\n",
      "Mask  0.000108660606\n",
      "(1, 1, 200, 7)\n",
      "Mask  0.00018236435\n",
      "(1, 1, 200, 7)\n",
      "Mask  0.00020827651\n",
      "(1, 1, 200, 7)\n",
      "Mask  0.00042396475\n",
      "(1, 1, 200, 7)\n",
      "Mask  0.00067085034\n",
      "(1, 1, 200, 7)\n",
      "Mask  0.0010672777\n",
      "(1, 1, 200, 7)\n",
      "Mask  0.00018867762\n",
      "(1, 1, 200, 7)\n",
      "Mask  0.00039456098\n",
      "(1, 1, 200, 7)\n",
      "Mask  0.00041835936\n",
      "(1, 1, 200, 7)\n",
      "Mask  7.4650056e-06\n",
      "(1, 1, 200, 7)\n",
      "(1, 1, 200, 7)\n",
      "Mask  0.8962724\n",
      "(1, 1, 200, 7)\n",
      "Mask  1.0\n",
      "(1, 1, 200, 7)\n",
      "Mask  0.99991345\n",
      "(1, 1, 200, 7)\n",
      "Mask  1.0\n",
      "(1, 1, 200, 7)\n",
      "Mask  1.0\n",
      "(1, 1, 200, 7)\n",
      "Mask  1.0\n",
      "(1, 1, 200, 7)\n",
      "Mask  1.0\n",
      "(1, 1, 200, 7)\n",
      "Mask  1.0\n",
      "(1, 1, 200, 7)\n",
      "Mask  1.0\n",
      "(1, 1, 200, 7)\n",
      "Mask  0.99989295\n",
      "(1, 1, 200, 7)\n",
      "Mask  0.9999995\n",
      "(1, 1, 200, 7)\n",
      "Mask  0.9999999\n",
      "(1, 1, 200, 7)\n",
      "Mask  0.99999833\n",
      "(1, 1, 200, 7)\n",
      "Mask  1.0\n",
      "(1, 1, 200, 7)\n",
      "Mask  0.99999964\n",
      "(1, 1, 200, 7)\n",
      "Mask  1.0\n",
      "(1, 1, 200, 7)\n",
      "Mask  1.0\n",
      "(1, 1, 200, 7)\n",
      "Mask  1.0\n",
      "(1, 1, 200, 7)\n",
      "Mask  1.0\n",
      "(1, 1, 200, 7)\n",
      "Mask  1.0\n",
      "(1, 1, 200, 7)\n",
      "Mask  1.0\n",
      "(1, 1, 200, 7)\n",
      "Mask  1.0\n",
      "(1, 1, 200, 7)\n",
      "Mask  1.0\n",
      "(1, 1, 200, 7)\n",
      "Mask  1.0\n",
      "(1, 1, 200, 7)\n",
      "Mask  0.108591765\n",
      "(1, 1, 200, 7)\n",
      "Mask  0.0001075063\n",
      "(1, 1, 200, 7)\n",
      "Mask  0.0016349546\n",
      "(1, 1, 200, 7)\n",
      "Mask  0.0005505565\n",
      "(1, 1, 200, 7)\n",
      "Mask  0.0022212986\n",
      "(1, 1, 200, 7)\n",
      "Mask  0.083348475\n",
      "(1, 1, 200, 7)\n",
      "Mask "
     ]
    }
   ],
   "source": [
    "\n",
    "from tensorflow.keras.models import load_model\n",
    "from imutils.video import VideoStream\n",
    "import numpy as np\n",
    "import imutils\n",
    "import time\n",
    "import cv2\n",
    "import os\n",
    "\n",
    "def detect_predict(frame, faceNet, maskNet):\n",
    "\t# Get dimension and create blob\n",
    "\t\n",
    "\t(h, w) = frame.shape[:2]\n",
    "\tblob = cv2.dnn.blobFromImage(frame, 1.0, (299, 299),\n",
    "\t\t(104.0, 177.0, 123.0))\n",
    "\n",
    "\t# pass the blob through the network and obtain the face detections\n",
    "\tfaceNet.setInput(blob)\n",
    "\tdetections = faceNet.forward()\n",
    "\tprint(detections.shape)\n",
    "\n",
    "\t# initialize our list of faces, their corresponding locations,\n",
    "\t# and the list of predictions from our face mask network\n",
    "\tfaces = []\n",
    "\tlocs = []\n",
    "\tpreds = []\n",
    "\n",
    "\t# loop over the detections\n",
    "\tfor i in range(0, detections.shape[2]):\n",
    "\t\t# extract the confidence (i.e., probability) associated with\n",
    "\t\t# the detection\n",
    "\t\tconfidence = detections[0, 0, i, 2]\n",
    "\n",
    "\t\t# filter out weak detections by ensuring the confidence is\n",
    "\t\t# greater than the minimum confidence\n",
    "\t\tif confidence > 0.5:\n",
    "\t\t\t# compute the (x, y)-coordinates of the bounding box for\n",
    "\t\t\t# the object\n",
    "\t\t\tbox = detections[0, 0, i, 3:7] * np.array([w, h, w, h])\n",
    "\t\t\t(startX, startY, endX, endY) = box.astype(\"int\")\n",
    "\n",
    "\t\t\t# ensure the bounding boxes fall within the dimensions of\n",
    "\t\t\t# the frame\n",
    "\t\t\t(startX, startY) = (max(0, startX), max(0, startY))\n",
    "\t\t\t(endX, endY) = (min(w - 1, endX), min(h - 1, endY))\n",
    "\n",
    "\t\t\t# extract the face ROI, convert it from BGR to RGB channel\n",
    "\t\t\t# ordering, resize it to 224x224, and preprocess it\n",
    "\t\t\tface = frame[startY:endY, startX:endX]\n",
    "\t\t\tface = cv2.cvtColor(face, cv2.COLOR_BGR2RGB)\n",
    "\t\t\tface = cv2.resize(face, (299, 299))\n",
    "\t\t\tface = img_to_array(face)\n",
    "\t\t\tface = preprocess_input(face)\n",
    "\n",
    "\t\t\t# add the face and bounding boxes to their respective\n",
    "\t\t\t# lists\n",
    "\t\t\tfaces.append(face)\n",
    "\t\t\tlocs.append((startX, startY, endX, endY))\n",
    "\n",
    "\t# only make a predictions if at least one face was detected\n",
    "\tif len(faces) > 0:\n",
    "\t\t# for faster inference we'll make batch predictions on *all*\n",
    "\t\t# faces at the same time rather than one-by-one predictions\n",
    "\t\t# in the above `for` loop\n",
    "\t\tfaces = np.array(faces, dtype=\"float32\")\n",
    "\t\tpreds = maskNet.predict(faces, batch_size=32)\n",
    "\n",
    "\t# return a 2-tuple of the face locations and their corresponding\n",
    "\t# locations\n",
    "\treturn (locs, preds)\n",
    "prototxtPath = r\"detect_face\\deploy.prototxt\"\n",
    "weightsPath = r\"detect_face\\res10_300x300_ssd_iter_140000.caffemodel\"\n",
    "faceNet = cv2.dnn.readNet(prototxtPath, weightsPath)\n",
    "\n",
    "maskNet = load_model('D:\\College\\Sem 4\\Btp Project\\MaskDetection-master\\mask_detector_InceptionV3.model')\n",
    "\n",
    "cap = VideoStream().start()\n",
    "\n",
    "while True:\n",
    "    frame = cap.read()\n",
    "    frame = imutils.resize(frame,width=600,height=800)\n",
    "\n",
    "        #Pass to detector model to  id face and check mask\n",
    "    (locs, preds) = detect_predict(frame,faceNet,maskNet)\n",
    "    for (box, pred) in zip(locs, preds):\n",
    "\t\t# unpack the bounding box and predictions\n",
    "        (startX, startY, endX, endY)= box\n",
    "        print(\"Mask \",pred[0])\n",
    "        (withoutMask,mask) = pred\n",
    "\n",
    "\t\t# determine the class label and color we'll use to draw\n",
    "        label = \"No Mask\" if withoutMask > mask else \"Mask\"\n",
    "        color = (0, 255, 0) if label == \"Mask\" else (0, 0, 255)\n",
    "\n",
    "        # include the probability in the label\n",
    "        label = \"{}: {:.2f}%\".format(label, max(mask, withoutMask) * 100)\n",
    "\n",
    "        # display the label and bounding box rectangle on the output\n",
    "        cv2.putText(frame, label, (startX, startY - 10),\n",
    "                    cv2.FONT_HERSHEY_SIMPLEX, 0.45, color, 2)\n",
    "        cv2.rectangle(frame, (startX, startY), (endX, endY), color, 2)\n",
    "\n",
    "    cv2.imshow(\"Frame\", frame)\n",
    "    key = cv2.waitKey(1) & 0xFF\n",
    "\n",
    "    if key == ord(\"q\"):\n",
    "        break\n",
    "cv2.destroyAllWindows()\n",
    "cap.stop()"
   ]
  },
  {
   "cell_type": "code",
   "execution_count": null,
   "metadata": {},
   "outputs": [],
   "source": []
  },
  {
   "cell_type": "code",
   "execution_count": null,
   "metadata": {},
   "outputs": [],
   "source": []
  },
  {
   "cell_type": "code",
   "execution_count": null,
   "metadata": {},
   "outputs": [],
   "source": []
  }
 ],
 "metadata": {
  "kernelspec": {
   "display_name": "Python 3 (ipykernel)",
   "language": "python",
   "name": "python3"
  },
  "language_info": {
   "codemirror_mode": {
    "name": "ipython",
    "version": 3
   },
   "file_extension": ".py",
   "mimetype": "text/x-python",
   "name": "python",
   "nbconvert_exporter": "python",
   "pygments_lexer": "ipython3",
   "version": "3.8.12"
  }
 },
 "nbformat": 4,
 "nbformat_minor": 4
}
